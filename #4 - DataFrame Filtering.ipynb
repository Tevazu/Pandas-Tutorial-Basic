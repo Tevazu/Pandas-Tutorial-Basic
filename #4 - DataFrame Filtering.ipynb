{
 "cells": [
  {
   "cell_type": "code",
   "execution_count": 1,
   "id": "934a6efb",
   "metadata": {},
   "outputs": [],
   "source": [
    "import numpy as np\n",
    "import pandas as pd\n",
    "from numpy.random import randn"
   ]
  },
  {
   "cell_type": "code",
   "execution_count": 6,
   "id": "4486f537",
   "metadata": {},
   "outputs": [
    {
     "data": {
      "text/html": [
       "<div>\n",
       "<style scoped>\n",
       "    .dataframe tbody tr th:only-of-type {\n",
       "        vertical-align: middle;\n",
       "    }\n",
       "\n",
       "    .dataframe tbody tr th {\n",
       "        vertical-align: top;\n",
       "    }\n",
       "\n",
       "    .dataframe thead th {\n",
       "        text-align: right;\n",
       "    }\n",
       "</style>\n",
       "<table border=\"1\" class=\"dataframe\">\n",
       "  <thead>\n",
       "    <tr style=\"text-align: right;\">\n",
       "      <th></th>\n",
       "      <th>Column1</th>\n",
       "      <th>Column2</th>\n",
       "      <th>Column3</th>\n",
       "    </tr>\n",
       "  </thead>\n",
       "  <tbody>\n",
       "    <tr>\n",
       "      <th>A</th>\n",
       "      <td>0.083878</td>\n",
       "      <td>0.417770</td>\n",
       "      <td>0.799566</td>\n",
       "    </tr>\n",
       "    <tr>\n",
       "      <th>B</th>\n",
       "      <td>-1.443732</td>\n",
       "      <td>-0.408692</td>\n",
       "      <td>1.849710</td>\n",
       "    </tr>\n",
       "    <tr>\n",
       "      <th>C</th>\n",
       "      <td>0.557690</td>\n",
       "      <td>0.239644</td>\n",
       "      <td>-0.377234</td>\n",
       "    </tr>\n",
       "    <tr>\n",
       "      <th>D</th>\n",
       "      <td>0.930388</td>\n",
       "      <td>-0.519170</td>\n",
       "      <td>-1.260907</td>\n",
       "    </tr>\n",
       "  </tbody>\n",
       "</table>\n",
       "</div>"
      ],
      "text/plain": [
       "    Column1   Column2   Column3\n",
       "A  0.083878  0.417770  0.799566\n",
       "B -1.443732 -0.408692  1.849710\n",
       "C  0.557690  0.239644 -0.377234\n",
       "D  0.930388 -0.519170 -1.260907"
      ]
     },
     "execution_count": 6,
     "metadata": {},
     "output_type": "execute_result"
    }
   ],
   "source": [
    "df = pd.DataFrame(randn(4,3),[\"A\",\"B\",\"C\",\"D\"], [\"Column1\",\"Column2\",\"Column3\"])\n",
    "df"
   ]
  },
  {
   "cell_type": "code",
   "execution_count": 7,
   "id": "e235ba60",
   "metadata": {},
   "outputs": [
    {
     "data": {
      "text/html": [
       "<div>\n",
       "<style scoped>\n",
       "    .dataframe tbody tr th:only-of-type {\n",
       "        vertical-align: middle;\n",
       "    }\n",
       "\n",
       "    .dataframe tbody tr th {\n",
       "        vertical-align: top;\n",
       "    }\n",
       "\n",
       "    .dataframe thead th {\n",
       "        text-align: right;\n",
       "    }\n",
       "</style>\n",
       "<table border=\"1\" class=\"dataframe\">\n",
       "  <thead>\n",
       "    <tr style=\"text-align: right;\">\n",
       "      <th></th>\n",
       "      <th>Column1</th>\n",
       "      <th>Column2</th>\n",
       "      <th>Column3</th>\n",
       "    </tr>\n",
       "  </thead>\n",
       "  <tbody>\n",
       "    <tr>\n",
       "      <th>A</th>\n",
       "      <td>True</td>\n",
       "      <td>True</td>\n",
       "      <td>True</td>\n",
       "    </tr>\n",
       "    <tr>\n",
       "      <th>B</th>\n",
       "      <td>False</td>\n",
       "      <td>True</td>\n",
       "      <td>True</td>\n",
       "    </tr>\n",
       "    <tr>\n",
       "      <th>C</th>\n",
       "      <td>True</td>\n",
       "      <td>True</td>\n",
       "      <td>True</td>\n",
       "    </tr>\n",
       "    <tr>\n",
       "      <th>D</th>\n",
       "      <td>True</td>\n",
       "      <td>True</td>\n",
       "      <td>False</td>\n",
       "    </tr>\n",
       "  </tbody>\n",
       "</table>\n",
       "</div>"
      ],
      "text/plain": [
       "   Column1  Column2  Column3\n",
       "A     True     True     True\n",
       "B    False     True     True\n",
       "C     True     True     True\n",
       "D     True     True    False"
      ]
     },
     "execution_count": 7,
     "metadata": {},
     "output_type": "execute_result"
    }
   ],
   "source": [
    "df > -1 # Values that bigger than -1 is returned \"True\", less than -1 is returned \"False\""
   ]
  },
  {
   "cell_type": "code",
   "execution_count": 8,
   "id": "b2625e98",
   "metadata": {},
   "outputs": [],
   "source": [
    "booleanDf = df > 0 # We assigned a variable that filters \"df > 0\""
   ]
  },
  {
   "cell_type": "code",
   "execution_count": 9,
   "id": "453f60bd",
   "metadata": {},
   "outputs": [
    {
     "data": {
      "text/html": [
       "<div>\n",
       "<style scoped>\n",
       "    .dataframe tbody tr th:only-of-type {\n",
       "        vertical-align: middle;\n",
       "    }\n",
       "\n",
       "    .dataframe tbody tr th {\n",
       "        vertical-align: top;\n",
       "    }\n",
       "\n",
       "    .dataframe thead th {\n",
       "        text-align: right;\n",
       "    }\n",
       "</style>\n",
       "<table border=\"1\" class=\"dataframe\">\n",
       "  <thead>\n",
       "    <tr style=\"text-align: right;\">\n",
       "      <th></th>\n",
       "      <th>Column1</th>\n",
       "      <th>Column2</th>\n",
       "      <th>Column3</th>\n",
       "    </tr>\n",
       "  </thead>\n",
       "  <tbody>\n",
       "    <tr>\n",
       "      <th>A</th>\n",
       "      <td>True</td>\n",
       "      <td>True</td>\n",
       "      <td>True</td>\n",
       "    </tr>\n",
       "    <tr>\n",
       "      <th>B</th>\n",
       "      <td>False</td>\n",
       "      <td>False</td>\n",
       "      <td>True</td>\n",
       "    </tr>\n",
       "    <tr>\n",
       "      <th>C</th>\n",
       "      <td>True</td>\n",
       "      <td>True</td>\n",
       "      <td>False</td>\n",
       "    </tr>\n",
       "    <tr>\n",
       "      <th>D</th>\n",
       "      <td>True</td>\n",
       "      <td>False</td>\n",
       "      <td>False</td>\n",
       "    </tr>\n",
       "  </tbody>\n",
       "</table>\n",
       "</div>"
      ],
      "text/plain": [
       "   Column1  Column2  Column3\n",
       "A     True     True     True\n",
       "B    False    False     True\n",
       "C     True     True    False\n",
       "D     True    False    False"
      ]
     },
     "execution_count": 9,
     "metadata": {},
     "output_type": "execute_result"
    }
   ],
   "source": [
    "booleanDf"
   ]
  },
  {
   "cell_type": "code",
   "execution_count": 10,
   "id": "9de45af7",
   "metadata": {},
   "outputs": [
    {
     "data": {
      "text/html": [
       "<div>\n",
       "<style scoped>\n",
       "    .dataframe tbody tr th:only-of-type {\n",
       "        vertical-align: middle;\n",
       "    }\n",
       "\n",
       "    .dataframe tbody tr th {\n",
       "        vertical-align: top;\n",
       "    }\n",
       "\n",
       "    .dataframe thead th {\n",
       "        text-align: right;\n",
       "    }\n",
       "</style>\n",
       "<table border=\"1\" class=\"dataframe\">\n",
       "  <thead>\n",
       "    <tr style=\"text-align: right;\">\n",
       "      <th></th>\n",
       "      <th>Column1</th>\n",
       "      <th>Column2</th>\n",
       "      <th>Column3</th>\n",
       "    </tr>\n",
       "  </thead>\n",
       "  <tbody>\n",
       "    <tr>\n",
       "      <th>A</th>\n",
       "      <td>0.083878</td>\n",
       "      <td>0.417770</td>\n",
       "      <td>0.799566</td>\n",
       "    </tr>\n",
       "    <tr>\n",
       "      <th>B</th>\n",
       "      <td>NaN</td>\n",
       "      <td>NaN</td>\n",
       "      <td>1.849710</td>\n",
       "    </tr>\n",
       "    <tr>\n",
       "      <th>C</th>\n",
       "      <td>0.557690</td>\n",
       "      <td>0.239644</td>\n",
       "      <td>NaN</td>\n",
       "    </tr>\n",
       "    <tr>\n",
       "      <th>D</th>\n",
       "      <td>0.930388</td>\n",
       "      <td>NaN</td>\n",
       "      <td>NaN</td>\n",
       "    </tr>\n",
       "  </tbody>\n",
       "</table>\n",
       "</div>"
      ],
      "text/plain": [
       "    Column1   Column2   Column3\n",
       "A  0.083878  0.417770  0.799566\n",
       "B       NaN       NaN  1.849710\n",
       "C  0.557690  0.239644       NaN\n",
       "D  0.930388       NaN       NaN"
      ]
     },
     "execution_count": 10,
     "metadata": {},
     "output_type": "execute_result"
    }
   ],
   "source": [
    "df[booleanDf] # True ones remain same but False ones returns NaN"
   ]
  },
  {
   "cell_type": "code",
   "execution_count": 11,
   "id": "e9080b40",
   "metadata": {},
   "outputs": [
    {
     "data": {
      "text/html": [
       "<div>\n",
       "<style scoped>\n",
       "    .dataframe tbody tr th:only-of-type {\n",
       "        vertical-align: middle;\n",
       "    }\n",
       "\n",
       "    .dataframe tbody tr th {\n",
       "        vertical-align: top;\n",
       "    }\n",
       "\n",
       "    .dataframe thead th {\n",
       "        text-align: right;\n",
       "    }\n",
       "</style>\n",
       "<table border=\"1\" class=\"dataframe\">\n",
       "  <thead>\n",
       "    <tr style=\"text-align: right;\">\n",
       "      <th></th>\n",
       "      <th>Column1</th>\n",
       "      <th>Column2</th>\n",
       "      <th>Column3</th>\n",
       "    </tr>\n",
       "  </thead>\n",
       "  <tbody>\n",
       "    <tr>\n",
       "      <th>A</th>\n",
       "      <td>0.083878</td>\n",
       "      <td>0.417770</td>\n",
       "      <td>0.799566</td>\n",
       "    </tr>\n",
       "    <tr>\n",
       "      <th>B</th>\n",
       "      <td>NaN</td>\n",
       "      <td>NaN</td>\n",
       "      <td>1.849710</td>\n",
       "    </tr>\n",
       "    <tr>\n",
       "      <th>C</th>\n",
       "      <td>0.557690</td>\n",
       "      <td>0.239644</td>\n",
       "      <td>NaN</td>\n",
       "    </tr>\n",
       "    <tr>\n",
       "      <th>D</th>\n",
       "      <td>0.930388</td>\n",
       "      <td>NaN</td>\n",
       "      <td>NaN</td>\n",
       "    </tr>\n",
       "  </tbody>\n",
       "</table>\n",
       "</div>"
      ],
      "text/plain": [
       "    Column1   Column2   Column3\n",
       "A  0.083878  0.417770  0.799566\n",
       "B       NaN       NaN  1.849710\n",
       "C  0.557690  0.239644       NaN\n",
       "D  0.930388       NaN       NaN"
      ]
     },
     "execution_count": 11,
     "metadata": {},
     "output_type": "execute_result"
    }
   ],
   "source": [
    "df[df > 0] # Same thing, different way to show"
   ]
  },
  {
   "cell_type": "markdown",
   "id": "5568f896",
   "metadata": {},
   "source": [
    "***"
   ]
  },
  {
   "cell_type": "code",
   "execution_count": 12,
   "id": "e0a88735",
   "metadata": {},
   "outputs": [
    {
     "data": {
      "text/plain": [
       "A    0.083878\n",
       "B   -1.443732\n",
       "C    0.557690\n",
       "D    0.930388\n",
       "Name: Column1, dtype: float64"
      ]
     },
     "execution_count": 12,
     "metadata": {},
     "output_type": "execute_result"
    }
   ],
   "source": [
    "df[\"Column1\"] # We did this already"
   ]
  },
  {
   "cell_type": "code",
   "execution_count": 13,
   "id": "731d5685",
   "metadata": {},
   "outputs": [
    {
     "data": {
      "text/plain": [
       "A     True\n",
       "B    False\n",
       "C     True\n",
       "D     True\n",
       "Name: Column1, dtype: bool"
      ]
     },
     "execution_count": 13,
     "metadata": {},
     "output_type": "execute_result"
    }
   ],
   "source": [
    "df[\"Column1\"] > 0 # It returns as boolean"
   ]
  },
  {
   "cell_type": "code",
   "execution_count": 14,
   "id": "41a0ba59",
   "metadata": {},
   "outputs": [
    {
     "data": {
      "text/html": [
       "<div>\n",
       "<style scoped>\n",
       "    .dataframe tbody tr th:only-of-type {\n",
       "        vertical-align: middle;\n",
       "    }\n",
       "\n",
       "    .dataframe tbody tr th {\n",
       "        vertical-align: top;\n",
       "    }\n",
       "\n",
       "    .dataframe thead th {\n",
       "        text-align: right;\n",
       "    }\n",
       "</style>\n",
       "<table border=\"1\" class=\"dataframe\">\n",
       "  <thead>\n",
       "    <tr style=\"text-align: right;\">\n",
       "      <th></th>\n",
       "      <th>Column1</th>\n",
       "      <th>Column2</th>\n",
       "      <th>Column3</th>\n",
       "    </tr>\n",
       "  </thead>\n",
       "  <tbody>\n",
       "    <tr>\n",
       "      <th>A</th>\n",
       "      <td>0.083878</td>\n",
       "      <td>0.417770</td>\n",
       "      <td>0.799566</td>\n",
       "    </tr>\n",
       "    <tr>\n",
       "      <th>C</th>\n",
       "      <td>0.557690</td>\n",
       "      <td>0.239644</td>\n",
       "      <td>-0.377234</td>\n",
       "    </tr>\n",
       "    <tr>\n",
       "      <th>D</th>\n",
       "      <td>0.930388</td>\n",
       "      <td>-0.519170</td>\n",
       "      <td>-1.260907</td>\n",
       "    </tr>\n",
       "  </tbody>\n",
       "</table>\n",
       "</div>"
      ],
      "text/plain": [
       "    Column1   Column2   Column3\n",
       "A  0.083878  0.417770  0.799566\n",
       "C  0.557690  0.239644 -0.377234\n",
       "D  0.930388 -0.519170 -1.260907"
      ]
     },
     "execution_count": 14,
     "metadata": {},
     "output_type": "execute_result"
    }
   ],
   "source": [
    "df[df[\"Column1\"] > 0] # When we did this, program doesn't print B index, because at above you can see it was false. That's why program didn't read B."
   ]
  },
  {
   "cell_type": "markdown",
   "id": "a94d6a02",
   "metadata": {},
   "source": [
    "Here it checks \"Column1\" and goes down from there. In index \"A\" it's bigger than \"0\", so program prints the rest of index \"A\". Index \"C\" and \"D\" also same but at the intersection of \"Column1\" and index \"B\", the value less than \"0\" that's why it doesn't print any value from that index.\n",
    "#### Let's make another one:"
   ]
  },
  {
   "cell_type": "code",
   "execution_count": 15,
   "id": "3446da16",
   "metadata": {},
   "outputs": [
    {
     "data": {
      "text/plain": [
       "A    False\n",
       "B    False\n",
       "C     True\n",
       "D     True\n",
       "Name: Column1, dtype: bool"
      ]
     },
     "execution_count": 15,
     "metadata": {},
     "output_type": "execute_result"
    }
   ],
   "source": [
    "df[\"Column1\"] > 0.5"
   ]
  },
  {
   "cell_type": "code",
   "execution_count": 16,
   "id": "92da2522",
   "metadata": {},
   "outputs": [
    {
     "data": {
      "text/html": [
       "<div>\n",
       "<style scoped>\n",
       "    .dataframe tbody tr th:only-of-type {\n",
       "        vertical-align: middle;\n",
       "    }\n",
       "\n",
       "    .dataframe tbody tr th {\n",
       "        vertical-align: top;\n",
       "    }\n",
       "\n",
       "    .dataframe thead th {\n",
       "        text-align: right;\n",
       "    }\n",
       "</style>\n",
       "<table border=\"1\" class=\"dataframe\">\n",
       "  <thead>\n",
       "    <tr style=\"text-align: right;\">\n",
       "      <th></th>\n",
       "      <th>Column1</th>\n",
       "      <th>Column2</th>\n",
       "      <th>Column3</th>\n",
       "    </tr>\n",
       "  </thead>\n",
       "  <tbody>\n",
       "    <tr>\n",
       "      <th>C</th>\n",
       "      <td>0.557690</td>\n",
       "      <td>0.239644</td>\n",
       "      <td>-0.377234</td>\n",
       "    </tr>\n",
       "    <tr>\n",
       "      <th>D</th>\n",
       "      <td>0.930388</td>\n",
       "      <td>-0.519170</td>\n",
       "      <td>-1.260907</td>\n",
       "    </tr>\n",
       "  </tbody>\n",
       "</table>\n",
       "</div>"
      ],
      "text/plain": [
       "    Column1   Column2   Column3\n",
       "C  0.557690  0.239644 -0.377234\n",
       "D  0.930388 -0.519170 -1.260907"
      ]
     },
     "execution_count": 16,
     "metadata": {},
     "output_type": "execute_result"
    }
   ],
   "source": [
    "df[df[\"Column1\"] > 0.5]"
   ]
  },
  {
   "cell_type": "markdown",
   "id": "1cf25be5",
   "metadata": {},
   "source": [
    "***\n",
    "#### Let's continue with a little bit harder ones and use \"and\" operator to make them connect each other:"
   ]
  },
  {
   "cell_type": "code",
   "execution_count": 33,
   "id": "f486257e",
   "metadata": {},
   "outputs": [
    {
     "data": {
      "text/html": [
       "<div>\n",
       "<style scoped>\n",
       "    .dataframe tbody tr th:only-of-type {\n",
       "        vertical-align: middle;\n",
       "    }\n",
       "\n",
       "    .dataframe tbody tr th {\n",
       "        vertical-align: top;\n",
       "    }\n",
       "\n",
       "    .dataframe thead th {\n",
       "        text-align: right;\n",
       "    }\n",
       "</style>\n",
       "<table border=\"1\" class=\"dataframe\">\n",
       "  <thead>\n",
       "    <tr style=\"text-align: right;\">\n",
       "      <th></th>\n",
       "      <th>Column1</th>\n",
       "      <th>Column2</th>\n",
       "      <th>Column3</th>\n",
       "    </tr>\n",
       "  </thead>\n",
       "  <tbody>\n",
       "    <tr>\n",
       "      <th>A</th>\n",
       "      <td>0.083878</td>\n",
       "      <td>0.417770</td>\n",
       "      <td>0.799566</td>\n",
       "    </tr>\n",
       "    <tr>\n",
       "      <th>B</th>\n",
       "      <td>-1.443732</td>\n",
       "      <td>-0.408692</td>\n",
       "      <td>1.849710</td>\n",
       "    </tr>\n",
       "    <tr>\n",
       "      <th>C</th>\n",
       "      <td>0.557690</td>\n",
       "      <td>0.239644</td>\n",
       "      <td>-0.377234</td>\n",
       "    </tr>\n",
       "    <tr>\n",
       "      <th>D</th>\n",
       "      <td>0.930388</td>\n",
       "      <td>-0.519170</td>\n",
       "      <td>-1.260907</td>\n",
       "    </tr>\n",
       "  </tbody>\n",
       "</table>\n",
       "</div>"
      ],
      "text/plain": [
       "    Column1   Column2   Column3\n",
       "A  0.083878  0.417770  0.799566\n",
       "B -1.443732 -0.408692  1.849710\n",
       "C  0.557690  0.239644 -0.377234\n",
       "D  0.930388 -0.519170 -1.260907"
      ]
     },
     "execution_count": 33,
     "metadata": {},
     "output_type": "execute_result"
    }
   ],
   "source": [
    "df"
   ]
  },
  {
   "cell_type": "code",
   "execution_count": 36,
   "id": "3d199fec",
   "metadata": {},
   "outputs": [
    {
     "data": {
      "text/html": [
       "<div>\n",
       "<style scoped>\n",
       "    .dataframe tbody tr th:only-of-type {\n",
       "        vertical-align: middle;\n",
       "    }\n",
       "\n",
       "    .dataframe tbody tr th {\n",
       "        vertical-align: top;\n",
       "    }\n",
       "\n",
       "    .dataframe thead th {\n",
       "        text-align: right;\n",
       "    }\n",
       "</style>\n",
       "<table border=\"1\" class=\"dataframe\">\n",
       "  <thead>\n",
       "    <tr style=\"text-align: right;\">\n",
       "      <th></th>\n",
       "      <th>Column1</th>\n",
       "      <th>Column2</th>\n",
       "      <th>Column3</th>\n",
       "    </tr>\n",
       "  </thead>\n",
       "  <tbody>\n",
       "    <tr>\n",
       "      <th>A</th>\n",
       "      <td>0.083878</td>\n",
       "      <td>0.417770</td>\n",
       "      <td>0.799566</td>\n",
       "    </tr>\n",
       "    <tr>\n",
       "      <th>C</th>\n",
       "      <td>0.557690</td>\n",
       "      <td>0.239644</td>\n",
       "      <td>-0.377234</td>\n",
       "    </tr>\n",
       "    <tr>\n",
       "      <th>D</th>\n",
       "      <td>0.930388</td>\n",
       "      <td>-0.519170</td>\n",
       "      <td>-1.260907</td>\n",
       "    </tr>\n",
       "  </tbody>\n",
       "</table>\n",
       "</div>"
      ],
      "text/plain": [
       "    Column1   Column2   Column3\n",
       "A  0.083878  0.417770  0.799566\n",
       "C  0.557690  0.239644 -0.377234\n",
       "D  0.930388 -0.519170 -1.260907"
      ]
     },
     "execution_count": 36,
     "metadata": {},
     "output_type": "execute_result"
    }
   ],
   "source": [
    "df[df[\"Column1\"] > 0] # To check here after connecting both"
   ]
  },
  {
   "cell_type": "code",
   "execution_count": 37,
   "id": "e5d077a2",
   "metadata": {
    "scrolled": true
   },
   "outputs": [
    {
     "data": {
      "text/html": [
       "<div>\n",
       "<style scoped>\n",
       "    .dataframe tbody tr th:only-of-type {\n",
       "        vertical-align: middle;\n",
       "    }\n",
       "\n",
       "    .dataframe tbody tr th {\n",
       "        vertical-align: top;\n",
       "    }\n",
       "\n",
       "    .dataframe thead th {\n",
       "        text-align: right;\n",
       "    }\n",
       "</style>\n",
       "<table border=\"1\" class=\"dataframe\">\n",
       "  <thead>\n",
       "    <tr style=\"text-align: right;\">\n",
       "      <th></th>\n",
       "      <th>Column1</th>\n",
       "      <th>Column2</th>\n",
       "      <th>Column3</th>\n",
       "    </tr>\n",
       "  </thead>\n",
       "  <tbody>\n",
       "    <tr>\n",
       "      <th>A</th>\n",
       "      <td>0.083878</td>\n",
       "      <td>0.417770</td>\n",
       "      <td>0.799566</td>\n",
       "    </tr>\n",
       "    <tr>\n",
       "      <th>C</th>\n",
       "      <td>0.557690</td>\n",
       "      <td>0.239644</td>\n",
       "      <td>-0.377234</td>\n",
       "    </tr>\n",
       "  </tbody>\n",
       "</table>\n",
       "</div>"
      ],
      "text/plain": [
       "    Column1   Column2   Column3\n",
       "A  0.083878  0.417770  0.799566\n",
       "C  0.557690  0.239644 -0.377234"
      ]
     },
     "execution_count": 37,
     "metadata": {},
     "output_type": "execute_result"
    }
   ],
   "source": [
    "df[df[\"Column2\"] > 0] # To check here after connecting both"
   ]
  },
  {
   "cell_type": "markdown",
   "id": "5a4017d3",
   "metadata": {},
   "source": [
    "##### Note: In pandas, \"and\" operator is \"&\""
   ]
  },
  {
   "cell_type": "code",
   "execution_count": 38,
   "id": "c65320c4",
   "metadata": {},
   "outputs": [
    {
     "data": {
      "text/html": [
       "<div>\n",
       "<style scoped>\n",
       "    .dataframe tbody tr th:only-of-type {\n",
       "        vertical-align: middle;\n",
       "    }\n",
       "\n",
       "    .dataframe tbody tr th {\n",
       "        vertical-align: top;\n",
       "    }\n",
       "\n",
       "    .dataframe thead th {\n",
       "        text-align: right;\n",
       "    }\n",
       "</style>\n",
       "<table border=\"1\" class=\"dataframe\">\n",
       "  <thead>\n",
       "    <tr style=\"text-align: right;\">\n",
       "      <th></th>\n",
       "      <th>Column1</th>\n",
       "      <th>Column2</th>\n",
       "      <th>Column3</th>\n",
       "    </tr>\n",
       "  </thead>\n",
       "  <tbody>\n",
       "    <tr>\n",
       "      <th>A</th>\n",
       "      <td>0.083878</td>\n",
       "      <td>0.417770</td>\n",
       "      <td>0.799566</td>\n",
       "    </tr>\n",
       "    <tr>\n",
       "      <th>C</th>\n",
       "      <td>0.557690</td>\n",
       "      <td>0.239644</td>\n",
       "      <td>-0.377234</td>\n",
       "    </tr>\n",
       "  </tbody>\n",
       "</table>\n",
       "</div>"
      ],
      "text/plain": [
       "    Column1   Column2   Column3\n",
       "A  0.083878  0.417770  0.799566\n",
       "C  0.557690  0.239644 -0.377234"
      ]
     },
     "execution_count": 38,
     "metadata": {},
     "output_type": "execute_result"
    }
   ],
   "source": [
    "df[(df[\"Column1\"] > 0) & (df[\"Column2\"] > 0)]"
   ]
  },
  {
   "cell_type": "markdown",
   "id": "452e78e3",
   "metadata": {},
   "source": [
    "#### As you can see in Statement[36] and [37], the common indices are \"A\" and \"C\". That's why program only prints those indices and ignores \"D\" \n",
    "***\n",
    "#### Let's use \"or\" operator:"
   ]
  },
  {
   "cell_type": "code",
   "execution_count": 39,
   "id": "382defd9",
   "metadata": {},
   "outputs": [
    {
     "data": {
      "text/html": [
       "<div>\n",
       "<style scoped>\n",
       "    .dataframe tbody tr th:only-of-type {\n",
       "        vertical-align: middle;\n",
       "    }\n",
       "\n",
       "    .dataframe tbody tr th {\n",
       "        vertical-align: top;\n",
       "    }\n",
       "\n",
       "    .dataframe thead th {\n",
       "        text-align: right;\n",
       "    }\n",
       "</style>\n",
       "<table border=\"1\" class=\"dataframe\">\n",
       "  <thead>\n",
       "    <tr style=\"text-align: right;\">\n",
       "      <th></th>\n",
       "      <th>Column1</th>\n",
       "      <th>Column2</th>\n",
       "      <th>Column3</th>\n",
       "    </tr>\n",
       "  </thead>\n",
       "  <tbody>\n",
       "    <tr>\n",
       "      <th>A</th>\n",
       "      <td>0.083878</td>\n",
       "      <td>0.417770</td>\n",
       "      <td>0.799566</td>\n",
       "    </tr>\n",
       "    <tr>\n",
       "      <th>C</th>\n",
       "      <td>0.557690</td>\n",
       "      <td>0.239644</td>\n",
       "      <td>-0.377234</td>\n",
       "    </tr>\n",
       "    <tr>\n",
       "      <th>D</th>\n",
       "      <td>0.930388</td>\n",
       "      <td>-0.519170</td>\n",
       "      <td>-1.260907</td>\n",
       "    </tr>\n",
       "  </tbody>\n",
       "</table>\n",
       "</div>"
      ],
      "text/plain": [
       "    Column1   Column2   Column3\n",
       "A  0.083878  0.417770  0.799566\n",
       "C  0.557690  0.239644 -0.377234\n",
       "D  0.930388 -0.519170 -1.260907"
      ]
     },
     "execution_count": 39,
     "metadata": {},
     "output_type": "execute_result"
    }
   ],
   "source": [
    "df[df[\"Column1\"] > 0] # To check here after connecting both"
   ]
  },
  {
   "cell_type": "code",
   "execution_count": 40,
   "id": "37c4dbd6",
   "metadata": {},
   "outputs": [
    {
     "data": {
      "text/html": [
       "<div>\n",
       "<style scoped>\n",
       "    .dataframe tbody tr th:only-of-type {\n",
       "        vertical-align: middle;\n",
       "    }\n",
       "\n",
       "    .dataframe tbody tr th {\n",
       "        vertical-align: top;\n",
       "    }\n",
       "\n",
       "    .dataframe thead th {\n",
       "        text-align: right;\n",
       "    }\n",
       "</style>\n",
       "<table border=\"1\" class=\"dataframe\">\n",
       "  <thead>\n",
       "    <tr style=\"text-align: right;\">\n",
       "      <th></th>\n",
       "      <th>Column1</th>\n",
       "      <th>Column2</th>\n",
       "      <th>Column3</th>\n",
       "    </tr>\n",
       "  </thead>\n",
       "  <tbody>\n",
       "    <tr>\n",
       "      <th>A</th>\n",
       "      <td>0.083878</td>\n",
       "      <td>0.417770</td>\n",
       "      <td>0.799566</td>\n",
       "    </tr>\n",
       "    <tr>\n",
       "      <th>C</th>\n",
       "      <td>0.557690</td>\n",
       "      <td>0.239644</td>\n",
       "      <td>-0.377234</td>\n",
       "    </tr>\n",
       "  </tbody>\n",
       "</table>\n",
       "</div>"
      ],
      "text/plain": [
       "    Column1   Column2   Column3\n",
       "A  0.083878  0.417770  0.799566\n",
       "C  0.557690  0.239644 -0.377234"
      ]
     },
     "execution_count": 40,
     "metadata": {},
     "output_type": "execute_result"
    }
   ],
   "source": [
    "df[df[\"Column2\"] > 0] # To check here after connecting both"
   ]
  },
  {
   "cell_type": "markdown",
   "id": "cd3c7259",
   "metadata": {},
   "source": [
    "##### Note: In pandas \"or\" opearator is \" |\""
   ]
  },
  {
   "cell_type": "code",
   "execution_count": 42,
   "id": "6ba28861",
   "metadata": {},
   "outputs": [
    {
     "data": {
      "text/html": [
       "<div>\n",
       "<style scoped>\n",
       "    .dataframe tbody tr th:only-of-type {\n",
       "        vertical-align: middle;\n",
       "    }\n",
       "\n",
       "    .dataframe tbody tr th {\n",
       "        vertical-align: top;\n",
       "    }\n",
       "\n",
       "    .dataframe thead th {\n",
       "        text-align: right;\n",
       "    }\n",
       "</style>\n",
       "<table border=\"1\" class=\"dataframe\">\n",
       "  <thead>\n",
       "    <tr style=\"text-align: right;\">\n",
       "      <th></th>\n",
       "      <th>Column1</th>\n",
       "      <th>Column2</th>\n",
       "      <th>Column3</th>\n",
       "    </tr>\n",
       "  </thead>\n",
       "  <tbody>\n",
       "    <tr>\n",
       "      <th>A</th>\n",
       "      <td>0.083878</td>\n",
       "      <td>0.417770</td>\n",
       "      <td>0.799566</td>\n",
       "    </tr>\n",
       "    <tr>\n",
       "      <th>C</th>\n",
       "      <td>0.557690</td>\n",
       "      <td>0.239644</td>\n",
       "      <td>-0.377234</td>\n",
       "    </tr>\n",
       "    <tr>\n",
       "      <th>D</th>\n",
       "      <td>0.930388</td>\n",
       "      <td>-0.519170</td>\n",
       "      <td>-1.260907</td>\n",
       "    </tr>\n",
       "  </tbody>\n",
       "</table>\n",
       "</div>"
      ],
      "text/plain": [
       "    Column1   Column2   Column3\n",
       "A  0.083878  0.417770  0.799566\n",
       "C  0.557690  0.239644 -0.377234\n",
       "D  0.930388 -0.519170 -1.260907"
      ]
     },
     "execution_count": 42,
     "metadata": {},
     "output_type": "execute_result"
    }
   ],
   "source": [
    "df[(df[\"Column1\"] > 0) | (df[\"Column2\"] > 0)] # To check here after connecting both"
   ]
  },
  {
   "cell_type": "markdown",
   "id": "cf7ce254",
   "metadata": {},
   "source": [
    "#### As you can see in Statements[39] and [40], every index are there except \"B\". That's why program prints the indices that both statements include.\n",
    "***"
   ]
  },
  {
   "cell_type": "markdown",
   "id": "8f2cc14b",
   "metadata": {},
   "source": [
    "## Methods for Adding New Columns in DataFrame:\n",
    "### 1-"
   ]
  },
  {
   "cell_type": "code",
   "execution_count": 43,
   "id": "9234ade0",
   "metadata": {},
   "outputs": [],
   "source": [
    "df[\"Column4\"] = pd.Series(randn(4), [\"A\",\"B\",\"C\",\"D\"])"
   ]
  },
  {
   "cell_type": "code",
   "execution_count": 44,
   "id": "8673065f",
   "metadata": {
    "scrolled": true
   },
   "outputs": [
    {
     "data": {
      "text/html": [
       "<div>\n",
       "<style scoped>\n",
       "    .dataframe tbody tr th:only-of-type {\n",
       "        vertical-align: middle;\n",
       "    }\n",
       "\n",
       "    .dataframe tbody tr th {\n",
       "        vertical-align: top;\n",
       "    }\n",
       "\n",
       "    .dataframe thead th {\n",
       "        text-align: right;\n",
       "    }\n",
       "</style>\n",
       "<table border=\"1\" class=\"dataframe\">\n",
       "  <thead>\n",
       "    <tr style=\"text-align: right;\">\n",
       "      <th></th>\n",
       "      <th>Column1</th>\n",
       "      <th>Column2</th>\n",
       "      <th>Column3</th>\n",
       "      <th>Column4</th>\n",
       "    </tr>\n",
       "  </thead>\n",
       "  <tbody>\n",
       "    <tr>\n",
       "      <th>A</th>\n",
       "      <td>0.083878</td>\n",
       "      <td>0.417770</td>\n",
       "      <td>0.799566</td>\n",
       "      <td>1.586532</td>\n",
       "    </tr>\n",
       "    <tr>\n",
       "      <th>B</th>\n",
       "      <td>-1.443732</td>\n",
       "      <td>-0.408692</td>\n",
       "      <td>1.849710</td>\n",
       "      <td>-1.351395</td>\n",
       "    </tr>\n",
       "    <tr>\n",
       "      <th>C</th>\n",
       "      <td>0.557690</td>\n",
       "      <td>0.239644</td>\n",
       "      <td>-0.377234</td>\n",
       "      <td>2.369576</td>\n",
       "    </tr>\n",
       "    <tr>\n",
       "      <th>D</th>\n",
       "      <td>0.930388</td>\n",
       "      <td>-0.519170</td>\n",
       "      <td>-1.260907</td>\n",
       "      <td>-1.158347</td>\n",
       "    </tr>\n",
       "  </tbody>\n",
       "</table>\n",
       "</div>"
      ],
      "text/plain": [
       "    Column1   Column2   Column3   Column4\n",
       "A  0.083878  0.417770  0.799566  1.586532\n",
       "B -1.443732 -0.408692  1.849710 -1.351395\n",
       "C  0.557690  0.239644 -0.377234  2.369576\n",
       "D  0.930388 -0.519170 -1.260907 -1.158347"
      ]
     },
     "execution_count": 44,
     "metadata": {},
     "output_type": "execute_result"
    }
   ],
   "source": [
    "df"
   ]
  },
  {
   "cell_type": "markdown",
   "id": "75d19280",
   "metadata": {},
   "source": [
    "***\n",
    "### 2-"
   ]
  },
  {
   "cell_type": "code",
   "execution_count": 55,
   "id": "2e70e1d0",
   "metadata": {},
   "outputs": [],
   "source": [
    "df[\"Column5\"] = randn(4)"
   ]
  },
  {
   "cell_type": "code",
   "execution_count": 56,
   "id": "b36de73d",
   "metadata": {},
   "outputs": [
    {
     "data": {
      "text/html": [
       "<div>\n",
       "<style scoped>\n",
       "    .dataframe tbody tr th:only-of-type {\n",
       "        vertical-align: middle;\n",
       "    }\n",
       "\n",
       "    .dataframe tbody tr th {\n",
       "        vertical-align: top;\n",
       "    }\n",
       "\n",
       "    .dataframe thead th {\n",
       "        text-align: right;\n",
       "    }\n",
       "</style>\n",
       "<table border=\"1\" class=\"dataframe\">\n",
       "  <thead>\n",
       "    <tr style=\"text-align: right;\">\n",
       "      <th></th>\n",
       "      <th>Column1</th>\n",
       "      <th>Column2</th>\n",
       "      <th>Column3</th>\n",
       "      <th>Column4</th>\n",
       "      <th>Column5</th>\n",
       "    </tr>\n",
       "  </thead>\n",
       "  <tbody>\n",
       "    <tr>\n",
       "      <th>A</th>\n",
       "      <td>0.083878</td>\n",
       "      <td>0.417770</td>\n",
       "      <td>0.799566</td>\n",
       "      <td>1.586532</td>\n",
       "      <td>-0.959210</td>\n",
       "    </tr>\n",
       "    <tr>\n",
       "      <th>B</th>\n",
       "      <td>-1.443732</td>\n",
       "      <td>-0.408692</td>\n",
       "      <td>1.849710</td>\n",
       "      <td>-1.351395</td>\n",
       "      <td>1.780559</td>\n",
       "    </tr>\n",
       "    <tr>\n",
       "      <th>C</th>\n",
       "      <td>0.557690</td>\n",
       "      <td>0.239644</td>\n",
       "      <td>-0.377234</td>\n",
       "      <td>2.369576</td>\n",
       "      <td>0.899924</td>\n",
       "    </tr>\n",
       "    <tr>\n",
       "      <th>D</th>\n",
       "      <td>0.930388</td>\n",
       "      <td>-0.519170</td>\n",
       "      <td>-1.260907</td>\n",
       "      <td>-1.158347</td>\n",
       "      <td>-1.524003</td>\n",
       "    </tr>\n",
       "  </tbody>\n",
       "</table>\n",
       "</div>"
      ],
      "text/plain": [
       "    Column1   Column2   Column3   Column4   Column5\n",
       "A  0.083878  0.417770  0.799566  1.586532 -0.959210\n",
       "B -1.443732 -0.408692  1.849710 -1.351395  1.780559\n",
       "C  0.557690  0.239644 -0.377234  2.369576  0.899924\n",
       "D  0.930388 -0.519170 -1.260907 -1.158347 -1.524003"
      ]
     },
     "execution_count": 56,
     "metadata": {},
     "output_type": "execute_result"
    }
   ],
   "source": [
    "df"
   ]
  },
  {
   "cell_type": "markdown",
   "id": "8cae3a32",
   "metadata": {},
   "source": [
    "***\n",
    "## set_index() and Changing Indices:"
   ]
  },
  {
   "cell_type": "code",
   "execution_count": 62,
   "id": "7c0e3072",
   "metadata": {},
   "outputs": [],
   "source": [
    "df[\"Column6\"] = [\"newValue1\", \"newValue2\", \"newValue3\", \"newValue4\"] # We added string values instead numbers"
   ]
  },
  {
   "cell_type": "code",
   "execution_count": 63,
   "id": "fbfa308d",
   "metadata": {},
   "outputs": [
    {
     "data": {
      "text/html": [
       "<div>\n",
       "<style scoped>\n",
       "    .dataframe tbody tr th:only-of-type {\n",
       "        vertical-align: middle;\n",
       "    }\n",
       "\n",
       "    .dataframe tbody tr th {\n",
       "        vertical-align: top;\n",
       "    }\n",
       "\n",
       "    .dataframe thead th {\n",
       "        text-align: right;\n",
       "    }\n",
       "</style>\n",
       "<table border=\"1\" class=\"dataframe\">\n",
       "  <thead>\n",
       "    <tr style=\"text-align: right;\">\n",
       "      <th></th>\n",
       "      <th>Column1</th>\n",
       "      <th>Column2</th>\n",
       "      <th>Column3</th>\n",
       "      <th>Column4</th>\n",
       "      <th>Column5</th>\n",
       "      <th>Column6</th>\n",
       "    </tr>\n",
       "  </thead>\n",
       "  <tbody>\n",
       "    <tr>\n",
       "      <th>A</th>\n",
       "      <td>0.083878</td>\n",
       "      <td>0.417770</td>\n",
       "      <td>0.799566</td>\n",
       "      <td>1.586532</td>\n",
       "      <td>-0.959210</td>\n",
       "      <td>newValue1</td>\n",
       "    </tr>\n",
       "    <tr>\n",
       "      <th>B</th>\n",
       "      <td>-1.443732</td>\n",
       "      <td>-0.408692</td>\n",
       "      <td>1.849710</td>\n",
       "      <td>-1.351395</td>\n",
       "      <td>1.780559</td>\n",
       "      <td>newValue2</td>\n",
       "    </tr>\n",
       "    <tr>\n",
       "      <th>C</th>\n",
       "      <td>0.557690</td>\n",
       "      <td>0.239644</td>\n",
       "      <td>-0.377234</td>\n",
       "      <td>2.369576</td>\n",
       "      <td>0.899924</td>\n",
       "      <td>newValue3</td>\n",
       "    </tr>\n",
       "    <tr>\n",
       "      <th>D</th>\n",
       "      <td>0.930388</td>\n",
       "      <td>-0.519170</td>\n",
       "      <td>-1.260907</td>\n",
       "      <td>-1.158347</td>\n",
       "      <td>-1.524003</td>\n",
       "      <td>newValue4</td>\n",
       "    </tr>\n",
       "  </tbody>\n",
       "</table>\n",
       "</div>"
      ],
      "text/plain": [
       "    Column1   Column2   Column3   Column4   Column5    Column6\n",
       "A  0.083878  0.417770  0.799566  1.586532 -0.959210  newValue1\n",
       "B -1.443732 -0.408692  1.849710 -1.351395  1.780559  newValue2\n",
       "C  0.557690  0.239644 -0.377234  2.369576  0.899924  newValue3\n",
       "D  0.930388 -0.519170 -1.260907 -1.158347 -1.524003  newValue4"
      ]
     },
     "execution_count": 63,
     "metadata": {},
     "output_type": "execute_result"
    }
   ],
   "source": [
    "df"
   ]
  },
  {
   "cell_type": "markdown",
   "id": "68692177",
   "metadata": {},
   "source": [
    "#### Let's say we want to change the index names to Column6 values' names:"
   ]
  },
  {
   "cell_type": "code",
   "execution_count": 64,
   "id": "c596f9f2",
   "metadata": {},
   "outputs": [
    {
     "data": {
      "text/html": [
       "<div>\n",
       "<style scoped>\n",
       "    .dataframe tbody tr th:only-of-type {\n",
       "        vertical-align: middle;\n",
       "    }\n",
       "\n",
       "    .dataframe tbody tr th {\n",
       "        vertical-align: top;\n",
       "    }\n",
       "\n",
       "    .dataframe thead th {\n",
       "        text-align: right;\n",
       "    }\n",
       "</style>\n",
       "<table border=\"1\" class=\"dataframe\">\n",
       "  <thead>\n",
       "    <tr style=\"text-align: right;\">\n",
       "      <th></th>\n",
       "      <th>Column1</th>\n",
       "      <th>Column2</th>\n",
       "      <th>Column3</th>\n",
       "      <th>Column4</th>\n",
       "      <th>Column5</th>\n",
       "    </tr>\n",
       "    <tr>\n",
       "      <th>Column6</th>\n",
       "      <th></th>\n",
       "      <th></th>\n",
       "      <th></th>\n",
       "      <th></th>\n",
       "      <th></th>\n",
       "    </tr>\n",
       "  </thead>\n",
       "  <tbody>\n",
       "    <tr>\n",
       "      <th>newValue1</th>\n",
       "      <td>0.083878</td>\n",
       "      <td>0.417770</td>\n",
       "      <td>0.799566</td>\n",
       "      <td>1.586532</td>\n",
       "      <td>-0.959210</td>\n",
       "    </tr>\n",
       "    <tr>\n",
       "      <th>newValue2</th>\n",
       "      <td>-1.443732</td>\n",
       "      <td>-0.408692</td>\n",
       "      <td>1.849710</td>\n",
       "      <td>-1.351395</td>\n",
       "      <td>1.780559</td>\n",
       "    </tr>\n",
       "    <tr>\n",
       "      <th>newValue3</th>\n",
       "      <td>0.557690</td>\n",
       "      <td>0.239644</td>\n",
       "      <td>-0.377234</td>\n",
       "      <td>2.369576</td>\n",
       "      <td>0.899924</td>\n",
       "    </tr>\n",
       "    <tr>\n",
       "      <th>newValue4</th>\n",
       "      <td>0.930388</td>\n",
       "      <td>-0.519170</td>\n",
       "      <td>-1.260907</td>\n",
       "      <td>-1.158347</td>\n",
       "      <td>-1.524003</td>\n",
       "    </tr>\n",
       "  </tbody>\n",
       "</table>\n",
       "</div>"
      ],
      "text/plain": [
       "            Column1   Column2   Column3   Column4   Column5\n",
       "Column6                                                    \n",
       "newValue1  0.083878  0.417770  0.799566  1.586532 -0.959210\n",
       "newValue2 -1.443732 -0.408692  1.849710 -1.351395  1.780559\n",
       "newValue3  0.557690  0.239644 -0.377234  2.369576  0.899924\n",
       "newValue4  0.930388 -0.519170 -1.260907 -1.158347 -1.524003"
      ]
     },
     "execution_count": 64,
     "metadata": {},
     "output_type": "execute_result"
    }
   ],
   "source": [
    "df.set_index(\"Column6\")"
   ]
  },
  {
   "cell_type": "markdown",
   "id": "6fb318a9",
   "metadata": {},
   "source": [
    "#### Here indices \"A\", \"B\", \"C\" and \"D\" became \"Column6\" values' names and \"Column6\" became the indices' name. But when we check the dataframe again we'll see that it's not updated:"
   ]
  },
  {
   "cell_type": "code",
   "execution_count": 65,
   "id": "61b516f1",
   "metadata": {},
   "outputs": [
    {
     "data": {
      "text/html": [
       "<div>\n",
       "<style scoped>\n",
       "    .dataframe tbody tr th:only-of-type {\n",
       "        vertical-align: middle;\n",
       "    }\n",
       "\n",
       "    .dataframe tbody tr th {\n",
       "        vertical-align: top;\n",
       "    }\n",
       "\n",
       "    .dataframe thead th {\n",
       "        text-align: right;\n",
       "    }\n",
       "</style>\n",
       "<table border=\"1\" class=\"dataframe\">\n",
       "  <thead>\n",
       "    <tr style=\"text-align: right;\">\n",
       "      <th></th>\n",
       "      <th>Column1</th>\n",
       "      <th>Column2</th>\n",
       "      <th>Column3</th>\n",
       "      <th>Column4</th>\n",
       "      <th>Column5</th>\n",
       "      <th>Column6</th>\n",
       "    </tr>\n",
       "  </thead>\n",
       "  <tbody>\n",
       "    <tr>\n",
       "      <th>A</th>\n",
       "      <td>0.083878</td>\n",
       "      <td>0.417770</td>\n",
       "      <td>0.799566</td>\n",
       "      <td>1.586532</td>\n",
       "      <td>-0.959210</td>\n",
       "      <td>newValue1</td>\n",
       "    </tr>\n",
       "    <tr>\n",
       "      <th>B</th>\n",
       "      <td>-1.443732</td>\n",
       "      <td>-0.408692</td>\n",
       "      <td>1.849710</td>\n",
       "      <td>-1.351395</td>\n",
       "      <td>1.780559</td>\n",
       "      <td>newValue2</td>\n",
       "    </tr>\n",
       "    <tr>\n",
       "      <th>C</th>\n",
       "      <td>0.557690</td>\n",
       "      <td>0.239644</td>\n",
       "      <td>-0.377234</td>\n",
       "      <td>2.369576</td>\n",
       "      <td>0.899924</td>\n",
       "      <td>newValue3</td>\n",
       "    </tr>\n",
       "    <tr>\n",
       "      <th>D</th>\n",
       "      <td>0.930388</td>\n",
       "      <td>-0.519170</td>\n",
       "      <td>-1.260907</td>\n",
       "      <td>-1.158347</td>\n",
       "      <td>-1.524003</td>\n",
       "      <td>newValue4</td>\n",
       "    </tr>\n",
       "  </tbody>\n",
       "</table>\n",
       "</div>"
      ],
      "text/plain": [
       "    Column1   Column2   Column3   Column4   Column5    Column6\n",
       "A  0.083878  0.417770  0.799566  1.586532 -0.959210  newValue1\n",
       "B -1.443732 -0.408692  1.849710 -1.351395  1.780559  newValue2\n",
       "C  0.557690  0.239644 -0.377234  2.369576  0.899924  newValue3\n",
       "D  0.930388 -0.519170 -1.260907 -1.158347 -1.524003  newValue4"
      ]
     },
     "execution_count": 65,
     "metadata": {},
     "output_type": "execute_result"
    }
   ],
   "source": [
    "df"
   ]
  },
  {
   "cell_type": "markdown",
   "id": "09f3eedb",
   "metadata": {},
   "source": [
    "#### Because if you press Shift+Tab, set_index() function has the \"inplace = False\" parameter as default. So we should make it \"True\" to update the dataframe:"
   ]
  },
  {
   "cell_type": "code",
   "execution_count": 67,
   "id": "36048c4d",
   "metadata": {},
   "outputs": [],
   "source": [
    "df.set_index(\"Column6\", inplace = True)"
   ]
  },
  {
   "cell_type": "code",
   "execution_count": 69,
   "id": "7d35ae1b",
   "metadata": {},
   "outputs": [
    {
     "data": {
      "text/html": [
       "<div>\n",
       "<style scoped>\n",
       "    .dataframe tbody tr th:only-of-type {\n",
       "        vertical-align: middle;\n",
       "    }\n",
       "\n",
       "    .dataframe tbody tr th {\n",
       "        vertical-align: top;\n",
       "    }\n",
       "\n",
       "    .dataframe thead th {\n",
       "        text-align: right;\n",
       "    }\n",
       "</style>\n",
       "<table border=\"1\" class=\"dataframe\">\n",
       "  <thead>\n",
       "    <tr style=\"text-align: right;\">\n",
       "      <th></th>\n",
       "      <th>Column1</th>\n",
       "      <th>Column2</th>\n",
       "      <th>Column3</th>\n",
       "      <th>Column4</th>\n",
       "      <th>Column5</th>\n",
       "    </tr>\n",
       "    <tr>\n",
       "      <th>Column6</th>\n",
       "      <th></th>\n",
       "      <th></th>\n",
       "      <th></th>\n",
       "      <th></th>\n",
       "      <th></th>\n",
       "    </tr>\n",
       "  </thead>\n",
       "  <tbody>\n",
       "    <tr>\n",
       "      <th>newValue1</th>\n",
       "      <td>0.083878</td>\n",
       "      <td>0.417770</td>\n",
       "      <td>0.799566</td>\n",
       "      <td>1.586532</td>\n",
       "      <td>-0.959210</td>\n",
       "    </tr>\n",
       "    <tr>\n",
       "      <th>newValue2</th>\n",
       "      <td>-1.443732</td>\n",
       "      <td>-0.408692</td>\n",
       "      <td>1.849710</td>\n",
       "      <td>-1.351395</td>\n",
       "      <td>1.780559</td>\n",
       "    </tr>\n",
       "    <tr>\n",
       "      <th>newValue3</th>\n",
       "      <td>0.557690</td>\n",
       "      <td>0.239644</td>\n",
       "      <td>-0.377234</td>\n",
       "      <td>2.369576</td>\n",
       "      <td>0.899924</td>\n",
       "    </tr>\n",
       "    <tr>\n",
       "      <th>newValue4</th>\n",
       "      <td>0.930388</td>\n",
       "      <td>-0.519170</td>\n",
       "      <td>-1.260907</td>\n",
       "      <td>-1.158347</td>\n",
       "      <td>-1.524003</td>\n",
       "    </tr>\n",
       "  </tbody>\n",
       "</table>\n",
       "</div>"
      ],
      "text/plain": [
       "            Column1   Column2   Column3   Column4   Column5\n",
       "Column6                                                    \n",
       "newValue1  0.083878  0.417770  0.799566  1.586532 -0.959210\n",
       "newValue2 -1.443732 -0.408692  1.849710 -1.351395  1.780559\n",
       "newValue3  0.557690  0.239644 -0.377234  2.369576  0.899924\n",
       "newValue4  0.930388 -0.519170 -1.260907 -1.158347 -1.524003"
      ]
     },
     "execution_count": 69,
     "metadata": {},
     "output_type": "execute_result"
    }
   ],
   "source": [
    "df # Now it's okay"
   ]
  }
 ],
 "metadata": {
  "kernelspec": {
   "display_name": "Python 3",
   "language": "python",
   "name": "python3"
  },
  "language_info": {
   "codemirror_mode": {
    "name": "ipython",
    "version": 3
   },
   "file_extension": ".py",
   "mimetype": "text/x-python",
   "name": "python",
   "nbconvert_exporter": "python",
   "pygments_lexer": "ipython3",
   "version": "3.8.8"
  }
 },
 "nbformat": 4,
 "nbformat_minor": 5
}
