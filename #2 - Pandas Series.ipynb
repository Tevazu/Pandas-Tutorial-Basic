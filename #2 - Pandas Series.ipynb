{
 "cells": [
  {
   "cell_type": "code",
   "execution_count": 1,
   "id": "1d3a56cf",
   "metadata": {},
   "outputs": [],
   "source": [
    "import numpy as np #Because we will use numpy too\n",
    "import pandas as pd"
   ]
  },
  {
   "cell_type": "code",
   "execution_count": 2,
   "id": "e54f2437",
   "metadata": {},
   "outputs": [],
   "source": [
    "labels_list = [\"Mustafa\",\"Kemal\",\"Yusuf\",\"Thomas\",\"Madeline\"] # Creating random list"
   ]
  },
  {
   "cell_type": "code",
   "execution_count": 7,
   "id": "06b58c15",
   "metadata": {},
   "outputs": [],
   "source": [
    "data_list = [10, 20, 30, 40, 50]"
   ]
  },
  {
   "cell_type": "code",
   "execution_count": 8,
   "id": "389d9eb9",
   "metadata": {},
   "outputs": [
    {
     "data": {
      "text/plain": [
       "Mustafa     10\n",
       "Kemal       20\n",
       "Yusuf       30\n",
       "Thomas      40\n",
       "Madeline    50\n",
       "dtype: int64"
      ]
     },
     "execution_count": 8,
     "metadata": {},
     "output_type": "execute_result"
    }
   ],
   "source": [
    "pd.Series(data=data_list, index= labels_list) #You can press Shift+Tab on empty paranthesis, you will see data, index etc. as None, so we'll give those data now\n",
    "# You don't have to write \"data=\" or \"index=\", instead write by the order you saw in the info of Shift+Tab"
   ]
  },
  {
   "cell_type": "code",
   "execution_count": 10,
   "id": "08c5f440",
   "metadata": {},
   "outputs": [
    {
     "data": {
      "text/plain": [
       "0    10\n",
       "1    20\n",
       "2    30\n",
       "3    40\n",
       "4    50\n",
       "dtype: int64"
      ]
     },
     "execution_count": 10,
     "metadata": {},
     "output_type": "execute_result"
    }
   ],
   "source": [
    "pd.Series(data_list) # If you don't give any index it will order as default"
   ]
  },
  {
   "cell_type": "code",
   "execution_count": 15,
   "id": "caf7e781",
   "metadata": {},
   "outputs": [
    {
     "data": {
      "text/plain": [
       "Mustafa     10\n",
       "Kemal       20\n",
       "Yusuf       30\n",
       "Thomas      40\n",
       "Madeline    50\n",
       "dtype: int32"
      ]
     },
     "execution_count": 15,
     "metadata": {},
     "output_type": "execute_result"
    }
   ],
   "source": [
    "npArray = np.array([10, 20, 30, 40, 50]) # We used it with numpy\n",
    "pd.Series(npArray,labels_list)"
   ]
  },
  {
   "cell_type": "code",
   "execution_count": 16,
   "id": "42b849a4",
   "metadata": {},
   "outputs": [
    {
     "data": {
      "text/plain": [
       "A    10\n",
       "B    20\n",
       "C    30\n",
       "D    40\n",
       "E    50\n",
       "dtype: int32"
      ]
     },
     "execution_count": 16,
     "metadata": {},
     "output_type": "execute_result"
    }
   ],
   "source": [
    "pd.Series(data = npArray, index = [\"A\",\"B\",\"C\",\"D\",\"E\"]) # You can type index yourself"
   ]
  },
  {
   "cell_type": "code",
   "execution_count": 21,
   "id": "11e15cc0",
   "metadata": {},
   "outputs": [
    {
     "data": {
      "text/plain": [
       "Yusuf       30\n",
       "Kemal       80\n",
       "Madeline    60\n",
       "dtype: int64"
      ]
     },
     "execution_count": 21,
     "metadata": {},
     "output_type": "execute_result"
    }
   ],
   "source": [
    "dataDict = {\"Yusuf\":30, \"Kemal\":80, \"Madeline\":60} # You can use pandas with dictionary\n",
    "pd.Series(dataDict)"
   ]
  },
  {
   "cell_type": "markdown",
   "id": "d7720f93",
   "metadata": {},
   "source": [
    "***\n",
    "#### Let's say we want to create a data of export proceeds of some products in 2017:"
   ]
  },
  {
   "cell_type": "code",
   "execution_count": 24,
   "id": "355ff225",
   "metadata": {},
   "outputs": [
    {
     "data": {
      "text/plain": [
       "Wheat      5\n",
       "Corn      10\n",
       "Cherry    14\n",
       "Plum      19\n",
       "dtype: int64"
      ]
     },
     "execution_count": 24,
     "metadata": {},
     "output_type": "execute_result"
    }
   ],
   "source": [
    "exp2017 = pd.Series([5, 10, 14, 19], [\"Wheat\", \"Corn\", \"Cherry\", \"Plum\"]) # Not real values\n",
    "exp2017"
   ]
  },
  {
   "cell_type": "code",
   "execution_count": 25,
   "id": "805a9024",
   "metadata": {},
   "outputs": [
    {
     "data": {
      "text/plain": [
       "Wheat          4\n",
       "Corn          17\n",
       "Strawberry    22\n",
       "Plum           9\n",
       "dtype: int64"
      ]
     },
     "execution_count": 25,
     "metadata": {},
     "output_type": "execute_result"
    }
   ],
   "source": [
    "exp2018 = pd.Series([4, 17, 22, 9], [\"Wheat\", \"Corn\", \"Strawberry\", \"Plum\"]) # Not real values\n",
    "exp2018"
   ]
  },
  {
   "cell_type": "code",
   "execution_count": 26,
   "id": "196b10e5",
   "metadata": {},
   "outputs": [
    {
     "data": {
      "text/plain": [
       "Cherry         NaN\n",
       "Corn          27.0\n",
       "Plum          28.0\n",
       "Strawberry     NaN\n",
       "Wheat          9.0\n",
       "dtype: float64"
      ]
     },
     "execution_count": 26,
     "metadata": {},
     "output_type": "execute_result"
    }
   ],
   "source": [
    "exp2017 + exp2018"
   ]
  },
  {
   "cell_type": "markdown",
   "id": "ec22c6d8",
   "metadata": {},
   "source": [
    "→ As you can see here; **Corn, Plum and Wheat are calculated** because both series include them. **But Cherry and Strawberry didn't calculated**, this is because **Cherry is in exp2017** and **Strawberry is in exp2018**.\\\n",
    "→ If the data is not inside both series when you add them, it return them as Nan (Not a Number)."
   ]
  },
  {
   "cell_type": "markdown",
   "id": "7eeb1793",
   "metadata": {},
   "source": [
    "***\n",
    "#### Let's find the values corresponding to index values"
   ]
  },
  {
   "cell_type": "code",
   "execution_count": 29,
   "id": "56600d6e",
   "metadata": {},
   "outputs": [
    {
     "data": {
      "text/plain": [
       "Cherry         NaN\n",
       "Corn          27.0\n",
       "Plum          28.0\n",
       "Strawberry     NaN\n",
       "Wheat          9.0\n",
       "dtype: float64"
      ]
     },
     "execution_count": 29,
     "metadata": {},
     "output_type": "execute_result"
    }
   ],
   "source": [
    "total = exp2017 + exp2018\n",
    "total"
   ]
  },
  {
   "cell_type": "code",
   "execution_count": 31,
   "id": "1ce92599",
   "metadata": {},
   "outputs": [
    {
     "data": {
      "text/plain": [
       "28.0"
      ]
     },
     "execution_count": 31,
     "metadata": {},
     "output_type": "execute_result"
    }
   ],
   "source": [
    "total[\"Plum\"]"
   ]
  },
  {
   "cell_type": "code",
   "execution_count": 32,
   "id": "486d5274",
   "metadata": {},
   "outputs": [
    {
     "data": {
      "text/plain": [
       "nan"
      ]
     },
     "execution_count": 32,
     "metadata": {},
     "output_type": "execute_result"
    }
   ],
   "source": [
    "total[\"Cherry\"]"
   ]
  },
  {
   "cell_type": "code",
   "execution_count": 33,
   "id": "ed6ed164",
   "metadata": {},
   "outputs": [
    {
     "data": {
      "text/plain": [
       "9.0"
      ]
     },
     "execution_count": 33,
     "metadata": {},
     "output_type": "execute_result"
    }
   ],
   "source": [
    "total[\"Wheat\"]"
   ]
  },
  {
   "cell_type": "code",
   "execution_count": 35,
   "id": "c7bfaed5",
   "metadata": {},
   "outputs": [
    {
     "ename": "KeyError",
     "evalue": "'Apple'",
     "output_type": "error",
     "traceback": [
      "\u001b[1;31m---------------------------------------------------------------------------\u001b[0m",
      "\u001b[1;31mKeyError\u001b[0m                                  Traceback (most recent call last)",
      "\u001b[1;32mC:\\Anaconda3\\lib\\site-packages\\pandas\\core\\indexes\\base.py\u001b[0m in \u001b[0;36mget_loc\u001b[1;34m(self, key, method, tolerance)\u001b[0m\n\u001b[0;32m   3079\u001b[0m             \u001b[1;32mtry\u001b[0m\u001b[1;33m:\u001b[0m\u001b[1;33m\u001b[0m\u001b[1;33m\u001b[0m\u001b[0m\n\u001b[1;32m-> 3080\u001b[1;33m                 \u001b[1;32mreturn\u001b[0m \u001b[0mself\u001b[0m\u001b[1;33m.\u001b[0m\u001b[0m_engine\u001b[0m\u001b[1;33m.\u001b[0m\u001b[0mget_loc\u001b[0m\u001b[1;33m(\u001b[0m\u001b[0mcasted_key\u001b[0m\u001b[1;33m)\u001b[0m\u001b[1;33m\u001b[0m\u001b[1;33m\u001b[0m\u001b[0m\n\u001b[0m\u001b[0;32m   3081\u001b[0m             \u001b[1;32mexcept\u001b[0m \u001b[0mKeyError\u001b[0m \u001b[1;32mas\u001b[0m \u001b[0merr\u001b[0m\u001b[1;33m:\u001b[0m\u001b[1;33m\u001b[0m\u001b[1;33m\u001b[0m\u001b[0m\n",
      "\u001b[1;32mpandas\\_libs\\index.pyx\u001b[0m in \u001b[0;36mpandas._libs.index.IndexEngine.get_loc\u001b[1;34m()\u001b[0m\n",
      "\u001b[1;32mpandas\\_libs\\index.pyx\u001b[0m in \u001b[0;36mpandas._libs.index.IndexEngine.get_loc\u001b[1;34m()\u001b[0m\n",
      "\u001b[1;32mpandas\\_libs\\hashtable_class_helper.pxi\u001b[0m in \u001b[0;36mpandas._libs.hashtable.PyObjectHashTable.get_item\u001b[1;34m()\u001b[0m\n",
      "\u001b[1;32mpandas\\_libs\\hashtable_class_helper.pxi\u001b[0m in \u001b[0;36mpandas._libs.hashtable.PyObjectHashTable.get_item\u001b[1;34m()\u001b[0m\n",
      "\u001b[1;31mKeyError\u001b[0m: 'Apple'",
      "\nThe above exception was the direct cause of the following exception:\n",
      "\u001b[1;31mKeyError\u001b[0m                                  Traceback (most recent call last)",
      "\u001b[1;32m<ipython-input-35-50ffdb5180c1>\u001b[0m in \u001b[0;36m<module>\u001b[1;34m\u001b[0m\n\u001b[1;32m----> 1\u001b[1;33m \u001b[0mtotal\u001b[0m\u001b[1;33m[\u001b[0m\u001b[1;34m\"Apple\"\u001b[0m\u001b[1;33m]\u001b[0m \u001b[1;31m# If the key is not in the series it will return KeyError\u001b[0m\u001b[1;33m\u001b[0m\u001b[1;33m\u001b[0m\u001b[0m\n\u001b[0m",
      "\u001b[1;32mC:\\Anaconda3\\lib\\site-packages\\pandas\\core\\series.py\u001b[0m in \u001b[0;36m__getitem__\u001b[1;34m(self, key)\u001b[0m\n\u001b[0;32m    851\u001b[0m \u001b[1;33m\u001b[0m\u001b[0m\n\u001b[0;32m    852\u001b[0m         \u001b[1;32melif\u001b[0m \u001b[0mkey_is_scalar\u001b[0m\u001b[1;33m:\u001b[0m\u001b[1;33m\u001b[0m\u001b[1;33m\u001b[0m\u001b[0m\n\u001b[1;32m--> 853\u001b[1;33m             \u001b[1;32mreturn\u001b[0m \u001b[0mself\u001b[0m\u001b[1;33m.\u001b[0m\u001b[0m_get_value\u001b[0m\u001b[1;33m(\u001b[0m\u001b[0mkey\u001b[0m\u001b[1;33m)\u001b[0m\u001b[1;33m\u001b[0m\u001b[1;33m\u001b[0m\u001b[0m\n\u001b[0m\u001b[0;32m    854\u001b[0m \u001b[1;33m\u001b[0m\u001b[0m\n\u001b[0;32m    855\u001b[0m         \u001b[1;32mif\u001b[0m \u001b[0mis_hashable\u001b[0m\u001b[1;33m(\u001b[0m\u001b[0mkey\u001b[0m\u001b[1;33m)\u001b[0m\u001b[1;33m:\u001b[0m\u001b[1;33m\u001b[0m\u001b[1;33m\u001b[0m\u001b[0m\n",
      "\u001b[1;32mC:\\Anaconda3\\lib\\site-packages\\pandas\\core\\series.py\u001b[0m in \u001b[0;36m_get_value\u001b[1;34m(self, label, takeable)\u001b[0m\n\u001b[0;32m    959\u001b[0m \u001b[1;33m\u001b[0m\u001b[0m\n\u001b[0;32m    960\u001b[0m         \u001b[1;31m# Similar to Index.get_value, but we do not fall back to positional\u001b[0m\u001b[1;33m\u001b[0m\u001b[1;33m\u001b[0m\u001b[1;33m\u001b[0m\u001b[0m\n\u001b[1;32m--> 961\u001b[1;33m         \u001b[0mloc\u001b[0m \u001b[1;33m=\u001b[0m \u001b[0mself\u001b[0m\u001b[1;33m.\u001b[0m\u001b[0mindex\u001b[0m\u001b[1;33m.\u001b[0m\u001b[0mget_loc\u001b[0m\u001b[1;33m(\u001b[0m\u001b[0mlabel\u001b[0m\u001b[1;33m)\u001b[0m\u001b[1;33m\u001b[0m\u001b[1;33m\u001b[0m\u001b[0m\n\u001b[0m\u001b[0;32m    962\u001b[0m         \u001b[1;32mreturn\u001b[0m \u001b[0mself\u001b[0m\u001b[1;33m.\u001b[0m\u001b[0mindex\u001b[0m\u001b[1;33m.\u001b[0m\u001b[0m_get_values_for_loc\u001b[0m\u001b[1;33m(\u001b[0m\u001b[0mself\u001b[0m\u001b[1;33m,\u001b[0m \u001b[0mloc\u001b[0m\u001b[1;33m,\u001b[0m \u001b[0mlabel\u001b[0m\u001b[1;33m)\u001b[0m\u001b[1;33m\u001b[0m\u001b[1;33m\u001b[0m\u001b[0m\n\u001b[0;32m    963\u001b[0m \u001b[1;33m\u001b[0m\u001b[0m\n",
      "\u001b[1;32mC:\\Anaconda3\\lib\\site-packages\\pandas\\core\\indexes\\base.py\u001b[0m in \u001b[0;36mget_loc\u001b[1;34m(self, key, method, tolerance)\u001b[0m\n\u001b[0;32m   3080\u001b[0m                 \u001b[1;32mreturn\u001b[0m \u001b[0mself\u001b[0m\u001b[1;33m.\u001b[0m\u001b[0m_engine\u001b[0m\u001b[1;33m.\u001b[0m\u001b[0mget_loc\u001b[0m\u001b[1;33m(\u001b[0m\u001b[0mcasted_key\u001b[0m\u001b[1;33m)\u001b[0m\u001b[1;33m\u001b[0m\u001b[1;33m\u001b[0m\u001b[0m\n\u001b[0;32m   3081\u001b[0m             \u001b[1;32mexcept\u001b[0m \u001b[0mKeyError\u001b[0m \u001b[1;32mas\u001b[0m \u001b[0merr\u001b[0m\u001b[1;33m:\u001b[0m\u001b[1;33m\u001b[0m\u001b[1;33m\u001b[0m\u001b[0m\n\u001b[1;32m-> 3082\u001b[1;33m                 \u001b[1;32mraise\u001b[0m \u001b[0mKeyError\u001b[0m\u001b[1;33m(\u001b[0m\u001b[0mkey\u001b[0m\u001b[1;33m)\u001b[0m \u001b[1;32mfrom\u001b[0m \u001b[0merr\u001b[0m\u001b[1;33m\u001b[0m\u001b[1;33m\u001b[0m\u001b[0m\n\u001b[0m\u001b[0;32m   3083\u001b[0m \u001b[1;33m\u001b[0m\u001b[0m\n\u001b[0;32m   3084\u001b[0m         \u001b[1;32mif\u001b[0m \u001b[0mtolerance\u001b[0m \u001b[1;32mis\u001b[0m \u001b[1;32mnot\u001b[0m \u001b[1;32mNone\u001b[0m\u001b[1;33m:\u001b[0m\u001b[1;33m\u001b[0m\u001b[1;33m\u001b[0m\u001b[0m\n",
      "\u001b[1;31mKeyError\u001b[0m: 'Apple'"
     ]
    }
   ],
   "source": [
    "total[\"Apple\"] # If the key is not in the series it will return KeyError"
   ]
  }
 ],
 "metadata": {
  "kernelspec": {
   "display_name": "Python 3",
   "language": "python",
   "name": "python3"
  },
  "language_info": {
   "codemirror_mode": {
    "name": "ipython",
    "version": 3
   },
   "file_extension": ".py",
   "mimetype": "text/x-python",
   "name": "python",
   "nbconvert_exporter": "python",
   "pygments_lexer": "ipython3",
   "version": "3.8.8"
  }
 },
 "nbformat": 4,
 "nbformat_minor": 5
}
