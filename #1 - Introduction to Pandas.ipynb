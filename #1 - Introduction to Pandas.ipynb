{
 "cells": [
  {
   "cell_type": "markdown",
   "id": "fc803a40",
   "metadata": {},
   "source": [
    "# Pandas\n",
    "***"
   ]
  },
  {
   "cell_type": "markdown",
   "id": "ee2c6a50",
   "metadata": {},
   "source": [
    "• It's used in Data Proccessing, Data Cleaning and Data Mining\\\n",
    "• It consists of two data types: **Series** and **Data Frames (DataFrame)**\\\n",
    "• Similar to Sql (commands are like Join, GroupBy etc.)\\\n",
    "• People can work effectively with data from different sources"
   ]
  },
  {
   "cell_type": "markdown",
   "id": "f9517a8f",
   "metadata": {},
   "source": [
    "### Setup:\n",
    "Pandas gets installed with Anaconda but if it doesn't:\\\n",
    "\\\n",
    "•If there is Anaconda Distribution\\\n",
    "    _**conda install pandas**_  \n",
    "    \n",
    "•If there isn't Anaconda Distribution\\\n",
    "    **_pip install pandas_**\n",
    "    "
   ]
  }
 ],
 "metadata": {
  "kernelspec": {
   "display_name": "Python 3",
   "language": "python",
   "name": "python3"
  },
  "language_info": {
   "codemirror_mode": {
    "name": "ipython",
    "version": 3
   },
   "file_extension": ".py",
   "mimetype": "text/x-python",
   "name": "python",
   "nbconvert_exporter": "python",
   "pygments_lexer": "ipython3",
   "version": "3.8.8"
  }
 },
 "nbformat": 4,
 "nbformat_minor": 5
}
